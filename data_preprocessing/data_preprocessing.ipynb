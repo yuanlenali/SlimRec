{
 "cells": [
  {
   "cell_type": "code",
   "execution_count": 55,
   "metadata": {},
   "outputs": [],
   "source": [
    "# Generate dataset: Preprocess the raw dataset to the desired format\n",
    "# training example: user_vocab_id, movie_vocab_id, category_vocab_id(1,...,n) | ratings"
   ]
  },
  {
   "cell_type": "code",
   "execution_count": 16,
   "metadata": {},
   "outputs": [],
   "source": [
    "import os\n",
    "import shutil\n",
    "import csv\n",
    "import numpy as np\n",
    "import collections\n",
    "import random"
   ]
  },
  {
   "cell_type": "code",
   "execution_count": 17,
   "metadata": {},
   "outputs": [
    {
     "data": {
      "text/plain": [
       "'../data/users.dat'"
      ]
     },
     "execution_count": 17,
     "metadata": {},
     "output_type": "execute_result"
    }
   ],
   "source": [
    "# step 1: \n",
    "#-> generate (category, category_vocab_id) pairs\n",
    "#-> generate (movie_id, category_vocab_id) pairs\n",
    "#-> generate (movie_id, movie_vocab_id) pairs\n",
    "#Also, copy users.dat and movies.dat (added movie_vocab_id) to ../data/ \n",
    "category_to_category_vocab_id = {}\n",
    "movie_id_to_movie_vocab_id = {}\n",
    "movie_id_to_category_vocab_id = collections.defaultdict(list)\n",
    "category_to_category_vocab_id_cnt = 0\n",
    "movie_id_to_movie_vocab_id_cnt = 0\n",
    "\n",
    "##########\n",
    "# Note that we change the format of movies.dat by adding movie_vocab_id info.\n",
    "# Nomarlly we dont change raw data\n",
    "##########\n",
    "open('../data/movies.dat', 'w').close()\n",
    "fout = open('../data/movies.dat', 'w')\n",
    "\n",
    "with open('../raw_data/movies.dat', 'r') as file:\n",
    "    rows = csv.reader(file, delimiter='^')\n",
    "    for idx, row in enumerate(rows):\n",
    "        movie_id, movie_name, categories = row\n",
    "        if movie_id not in movie_id_to_movie_vocab_id:\n",
    "            movie_id_to_movie_vocab_id_cnt += 1\n",
    "            movie_id_to_movie_vocab_id[movie_id] = movie_id_to_movie_vocab_id_cnt\n",
    "        categories = categories.split(\"|\")\n",
    "        for category in categories:\n",
    "            if category not in category_to_category_vocab_id and category != \"\":\n",
    "                category_to_category_vocab_id_cnt += 1 \n",
    "                category_to_category_vocab_id[category] = category_to_category_vocab_id_cnt\n",
    "            if category != \"\":\n",
    "                movie_id_to_category_vocab_id[movie_id].append(category_to_category_vocab_id[category])\n",
    "        new_row = [str(movie_id_to_movie_vocab_id[movie_id])] + row       \n",
    "        fout.write('^'.join(new_row) + '\\n')\n",
    "fout.close()\n",
    "    # print(movie_id_to_category_vocab_id)   \n",
    "    # print(category_to_category_vocab_id)\n",
    "    # print(movie_id_to_movie_vocab_id_cnt)\n",
    "    \n",
    "shutil.copyfile('../raw_data/users.dat', '../data/users.dat')     "
   ]
  },
  {
   "cell_type": "code",
   "execution_count": 18,
   "metadata": {},
   "outputs": [],
   "source": [
    "# step 2: generate examples, the examples are sorted by timestamp\n",
    "#################################################################\n",
    "# user_vocab_id : movie_vocab_id : category_vocab_ids : label : timestamp\n",
    "#################################################################\n",
    "examples = []\n",
    "with open('../raw_data/ratings.dat', 'r') as file:\n",
    "    rows = csv.reader(file, delimiter='^')\n",
    "    total_n_examples = 0\n",
    "    for idx, row in enumerate(rows):\n",
    "        user_vocab_id, movie_id, rating, timestamp = row\n",
    "        movie_vocab_id = movie_id_to_movie_vocab_id[movie_id]\n",
    "        category_vocab_ids = movie_id_to_category_vocab_id[movie_id]\n",
    "        new_row = [user_vocab_id, str(movie_vocab_id)]\n",
    "        for category_vocab_id in category_vocab_ids:\n",
    "            new_row.append(str(category_vocab_id))\n",
    "        new_row.append(rating)\n",
    "        new_row.append(timestamp)\n",
    "        examples.append(new_row)\n",
    "        total_n_examples += 1\n",
    "\n",
    "# sort the examples by timestamp.\n",
    "examples.sort(key = lambda x: int(x[-1]))\n",
    "\n",
    "#write examples to data.dat\n",
    "open('../data/data.dat', 'w').close()\n",
    "with open(\"../data/data.dat\", \"w\") as outF:\n",
    "    for example in examples:\n",
    "        new_row = \":\".join(example)\n",
    "        outF.write(new_row + \"\\n\")\n"
   ]
  },
  {
   "cell_type": "code",
   "execution_count": 19,
   "metadata": {},
   "outputs": [],
   "source": [
    "# step 3: write metrics to metadata.dat\n",
    "######metadata.dat########\n",
    "# num_user:69280\n",
    "# num_movie:36365\n",
    "# num_category:28\n",
    "# user1:cnt1\n",
    "# user2:cnt2\n",
    "# user3:cnt3\n",
    "# ...\n",
    "######metadata.dat########\n",
    "open('../data/meta_data.dat', 'w').close()\n",
    "\n",
    "num_user = 0\n",
    "num_movie = len(movie_id_to_category_vocab_id)\n",
    "num_category = len(category_to_category_vocab_id)\n",
    "\n",
    "with open('../raw_data/users.dat', newline='') as file:\n",
    "    rows = csv.reader(file, delimiter='^')\n",
    "    for idx, row in enumerate(rows):\n",
    "        user_id, user_vocab_id = row\n",
    "        num_user = user_id\n",
    "\n",
    "per_user_cnt = {}\n",
    "with open(\"../data/data.dat\", \"r\") as file:\n",
    "    rows = csv.reader(file, delimiter=':', quotechar='|')\n",
    "    for idx, row in enumerate(rows):\n",
    "        user = int(row[0])\n",
    "        per_user_cnt[user] = per_user_cnt.get(user, 0) + 1\n",
    "\n",
    "keys = ['num_user', 'num_movie', 'num_category']\n",
    "values = [str(num_user), str(num_movie), str(num_category)]\n",
    "with open(\"../data/meta_data.dat\", \"w\") as file:\n",
    "    for i in range(3):\n",
    "        file.write(keys[i] + \":\" + values[i] + \"\\n\")\n",
    "    for user, cnt in per_user_cnt.items():\n",
    "        file.write(str(user) + \":\" + str(cnt) + '\\n')"
   ]
  },
  {
   "cell_type": "code",
   "execution_count": 20,
   "metadata": {},
   "outputs": [],
   "source": [
    "# step 4: split data into training data and testing data via timestamp\n",
    "# (all test data has larger timestamp than training data, to avoid data leakage.)\n",
    "\n",
    "split_ratio = 0.8\n",
    "per_user_cnt = per_user_cnt\n",
    "train_per_user_cnt = {user : int(split_ratio * cnt) for user, cnt in per_user_cnt.items()}\n",
    "iter_per_user_cnt = {user : 0 for user, cnt in per_user_cnt.items()}\n",
    "\n",
    "open('../data/train_data.dat', 'w').close()\n",
    "open('../data/test_data.dat', 'w').close()\n",
    "\n",
    "fout_train = open('../data/train_data.dat', 'w')\n",
    "fout_test = open('../data/test_data.dat', 'w')\n",
    "fin = open('../data/data.dat', 'r')\n",
    "   \n",
    "for row in fin:\n",
    "    user = int(row.split(\":\")[0])\n",
    "    cur_cnt = iter_per_user_cnt[user]\n",
    "    train_cnt = train_per_user_cnt[user]\n",
    "    if cur_cnt < train_cnt:\n",
    "        fout_train.write(row)\n",
    "    else:\n",
    "        fout_test.write(row)\n",
    "    iter_per_user_cnt[user] = cur_cnt + 1\n",
    "fin.close()\n",
    "\n",
    "fout_train.close()\n",
    "fout_test.close()\n"
   ]
  },
  {
   "cell_type": "code",
   "execution_count": 21,
   "metadata": {},
   "outputs": [
    {
     "name": "stdout",
     "output_type": "stream",
     "text": [
      "218299 34253\n"
     ]
    }
   ],
   "source": [
    "####--- MUST RUN TOGETHER WITH STEP 3 ---####\n",
    "#step 5: clean the test_data.dat\n",
    "# remove the ids in test examples that never appears in train dataset.\n",
    "\n",
    "user_vocab_id_set, movie_vocab_id_set = set(), set()\n",
    "with open('../data/train_data.dat', 'r') as train_file:\n",
    "    rows = csv.reader(train_file, delimiter=':')\n",
    "    for row in rows:\n",
    "        user_vocab_id_set.add(row[0])\n",
    "        movie_vocab_id_set.add(row[1])\n",
    "\n",
    "open('../data/test_data_temp.dat', 'w').close()\n",
    "fout_test = open('../data/test_data_temp.dat', 'w')\n",
    "\n",
    "skip_cnt = 0\n",
    "test_cnt = 0\n",
    "with open('../data/test_data.dat', 'r') as test_file:\n",
    "    rows = csv.reader(test_file, delimiter=':')\n",
    "    for row in rows:\n",
    "        user_vocab_id = row[0]\n",
    "        movie_vocab_id = row[1]\n",
    "        test_cnt += 1\n",
    "        if user_vocab_id not in user_vocab_id_set or movie_vocab_id not in movie_vocab_id_set:\n",
    "            skip_cnt += 1\n",
    "            continue\n",
    "        new_row = \":\".join(row)\n",
    "        fout_test.write(new_row + '\\n')\n",
    "print(test_cnt, skip_cnt)\n",
    "\n",
    "os.remove(\"../data/test_data.dat\")\n",
    "os.rename(\"../data/test_data_temp.dat\", \"../data/test_data.dat\")"
   ]
  }
 ],
 "metadata": {
  "kernelspec": {
   "display_name": "Python 3",
   "language": "python",
   "name": "python3"
  },
  "language_info": {
   "codemirror_mode": {
    "name": "ipython",
    "version": 3
   },
   "file_extension": ".py",
   "mimetype": "text/x-python",
   "name": "python",
   "nbconvert_exporter": "python",
   "pygments_lexer": "ipython3",
   "version": "3.8.5"
  }
 },
 "nbformat": 4,
 "nbformat_minor": 4
}
